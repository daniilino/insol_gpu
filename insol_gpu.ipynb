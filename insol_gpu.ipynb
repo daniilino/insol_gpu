{
 "cells": [
  {
   "cell_type": "code",
   "execution_count": 1,
   "metadata": {},
   "outputs": [],
   "source": [
    "import pickle\n",
    "import torch"
   ]
  },
  {
   "cell_type": "code",
   "execution_count": 115,
   "metadata": {},
   "outputs": [],
   "source": [
    "def first_non_zero(x):\n",
    "    x_value_mask = (x!=0).type(torch.int)\n",
    "    idx = torch.arange(1, x.shape[-1] + 1).unsqueeze(0) # so that \"0\" is going to be a marker for lack of occurence\n",
    "    idx = x_value_mask  * idx\n",
    "    idx = torch.where(idx!=0, idx, float(\"inf\")) - 1\n",
    "    idx = idx.sort(-1).values[:, 0].type(torch.int)\n",
    "    return idx"
   ]
  },
  {
   "cell_type": "code",
   "execution_count": 116,
   "metadata": {},
   "outputs": [],
   "source": [
    "with open('data.pkl', 'rb') as handle:\n",
    "    data = pickle.load(handle)\n",
    "\n",
    "grid_size = data[\"grid_size\"]\n",
    "window_offset = data[\"window_offset\"]\n",
    "window_size = data[\"window_size\"]\n",
    "\n",
    "obj_points = torch.tensor(data[\"obj_points\"])\n",
    "obj_normals = torch.tensor(data[\"obj_normals\"])\n",
    "\n",
    "env_points = torch.tensor(data[\"env_points\"])\n",
    "sun_vectors = torch.tensor(data[\"sun_vecs\"])"
   ]
  },
  {
   "cell_type": "code",
   "execution_count": 117,
   "metadata": {},
   "outputs": [],
   "source": [
    "window_inset_angle = torch.atan(torch.tensor(2 * window_offset / window_size))\n",
    "\n",
    "\n",
    "obj_pts = (obj_points[:, None, :] * torch.ones_like(sun_vectors)[None, :, :]).view(-1, 3)\n",
    "obj_nrm = (obj_normals[:, None, :] * torch.ones_like(sun_vectors)[None, :, :]).view(-1, 3)\n",
    "\n",
    "sun_vecs = (torch.ones_like(obj_points)[:, None, :]  * sun_vectors[None, :, :]).view(-1, 3)"
   ]
  },
  {
   "cell_type": "code",
   "execution_count": 118,
   "metadata": {},
   "outputs": [],
   "source": [
    "angles = ((obj_nrm / torch.linalg.vector_norm(obj_nrm, dim=-1, keepdim=True))[:, None, :] @ (sun_vecs / torch.linalg.vector_norm(sun_vecs, dim=-1, keepdim=True))[:, :, None]).view(-1).acos()\n",
    "angles_mask = angles > ((0.5 * torch.pi) + window_inset_angle)\n",
    "\n",
    "obj_pts = obj_pts[angles_mask]\n",
    "obj_nrm = obj_nrm[angles_mask]\n",
    "sun_vecs = sun_vecs[angles_mask]\n",
    "indices = torch.arange(angles_mask.shape[0])[angles_mask]"
   ]
  },
  {
   "cell_type": "code",
   "execution_count": 138,
   "metadata": {},
   "outputs": [
    {
     "name": "stdout",
     "output_type": "stream",
     "text": [
      "torch.Size([2201, 3])\n",
      "torch.Size([2201])\n"
     ]
    },
    {
     "ename": "RuntimeError",
     "evalue": "shifts and dimensions must align. shifts: 2201, dims:1",
     "output_type": "error",
     "traceback": [
      "\u001b[1;31m---------------------------------------------------------------------------\u001b[0m",
      "\u001b[1;31mRuntimeError\u001b[0m                              Traceback (most recent call last)",
      "\u001b[1;32mc:\\Users\\Admin\\Desktop\\insol_gpu\\insol_gpu.ipynb Cell 6\u001b[0m line \u001b[0;36m4\n\u001b[0;32m      <a href='vscode-notebook-cell:/c%3A/Users/Admin/Desktop/insol_gpu/insol_gpu.ipynb#W5sZmlsZQ%3D%3D?line=1'>2</a>\u001b[0m \u001b[39mprint\u001b[39m(obj_nrm\u001b[39m.\u001b[39mshape)\n\u001b[0;32m      <a href='vscode-notebook-cell:/c%3A/Users/Admin/Desktop/insol_gpu/insol_gpu.ipynb#W5sZmlsZQ%3D%3D?line=2'>3</a>\u001b[0m \u001b[39mprint\u001b[39m(shift\u001b[39m.\u001b[39mshape)\n\u001b[1;32m----> <a href='vscode-notebook-cell:/c%3A/Users/Admin/Desktop/insol_gpu/insol_gpu.ipynb#W5sZmlsZQ%3D%3D?line=3'>4</a>\u001b[0m obj_nrm \u001b[39m=\u001b[39m obj_nrm\u001b[39m.\u001b[39;49mroll(\u001b[39mtuple\u001b[39;49m(shift\u001b[39m.\u001b[39;49mtolist()), \u001b[39m1\u001b[39;49m)\n\u001b[0;32m      <a href='vscode-notebook-cell:/c%3A/Users/Admin/Desktop/insol_gpu/insol_gpu.ipynb#W5sZmlsZQ%3D%3D?line=5'>6</a>\u001b[0m \u001b[39mprint\u001b[39m(obj_nrm[:\u001b[39m10\u001b[39m])\n",
      "\u001b[1;31mRuntimeError\u001b[0m: shifts and dimensions must align. shifts: 2201, dims:1"
     ]
    }
   ],
   "source": [
    "shift = first_non_zero(obj_nrm)\n",
    "print(obj_nrm.shape)\n",
    "print(shift.shape)\n",
    "obj_nrm = obj_nrm.roll(tuple(shift.tolist()), 1)\n",
    "\n",
    "print(obj_nrm[:10])"
   ]
  },
  {
   "cell_type": "code",
   "execution_count": null,
   "metadata": {},
   "outputs": [],
   "source": []
  }
 ],
 "metadata": {
  "kernelspec": {
   "display_name": "vcr_logo",
   "language": "python",
   "name": "python3"
  },
  "language_info": {
   "codemirror_mode": {
    "name": "ipython",
    "version": 3
   },
   "file_extension": ".py",
   "mimetype": "text/x-python",
   "name": "python",
   "nbconvert_exporter": "python",
   "pygments_lexer": "ipython3",
   "version": "3.11.5"
  },
  "orig_nbformat": 4
 },
 "nbformat": 4,
 "nbformat_minor": 2
}
